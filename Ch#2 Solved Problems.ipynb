{
 "cells": [
  {
   "cell_type": "code",
   "execution_count": 1,
   "metadata": {},
   "outputs": [
    {
     "name": "stdout",
     "output_type": "stream",
     "text": [
      "Hey Sadia here!\n"
     ]
    }
   ],
   "source": [
    "#2.1: Simple Message:\n",
    "Simple_Msg = \"Hey Sadia here!\"\n",
    "print(Simple_Msg)"
   ]
  },
  {
   "cell_type": "code",
   "execution_count": 46,
   "metadata": {},
   "outputs": [
    {
     "name": "stdout",
     "output_type": "stream",
     "text": [
      "I like Python.\n",
      "It's interesting!\n"
     ]
    }
   ],
   "source": [
    "#2.2:Message:\n",
    "msg = \"I like Python.\"\n",
    "print(msg)\n",
    "msg = \"It's interesting!\"\n",
    "print(msg)"
   ]
  },
  {
   "cell_type": "code",
   "execution_count": 48,
   "metadata": {},
   "outputs": [
    {
     "name": "stdout",
     "output_type": "stream",
     "text": [
      "Hi Amna, i'll see you tomorrow.\n"
     ]
    }
   ],
   "source": [
    "# 2.3:Personal Message:\n",
    "p_name = \"Amna\"\n",
    "print(\"Hi \" + p_name + \", i'll see you tomorrow.\")\n"
   ]
  },
  {
   "cell_type": "code",
   "execution_count": 42,
   "metadata": {},
   "outputs": [
    {
     "name": "stdout",
     "output_type": "stream",
     "text": [
      "sadia jafar\n",
      "SADIA JAFAR\n",
      "Sadia Jafar\n"
     ]
    }
   ],
   "source": [
    "# 2.4 Name Cases:\n",
    "\n",
    "Name = \"Sadia jafar\"\n",
    "print(Name.lower())\n",
    "print(Name.upper())\n",
    "print(Name.title())\n"
   ]
  },
  {
   "cell_type": "code",
   "execution_count": 2,
   "metadata": {},
   "outputs": [
    {
     "name": "stdout",
     "output_type": "stream",
     "text": [
      "\tRobert Lloyd once said, “slow and steady\n",
      "\twins the race.”\n"
     ]
    }
   ],
   "source": [
    "#2.5 Famous Quote:\n",
    "print(\"\\tRobert Lloyd once said, “slow and steady\\n\\twins the race.”\")"
   ]
  },
  {
   "cell_type": "code",
   "execution_count": 6,
   "metadata": {},
   "outputs": [
    {
     "name": "stdout",
     "output_type": "stream",
     "text": [
      "\tRobert Lloyd once said, “slow and steady\n",
      "\twins the race.”\n"
     ]
    }
   ],
   "source": [
    "#2.6 Famous Quote 2:\n",
    "\n",
    "Famous_person = \"\\tRobert Lloyd\"\n",
    "message = \" once said, “slow and steady\\n\\twins the race.”\"\n",
    "print(Famous_person + message)"
   ]
  },
  {
   "cell_type": "code",
   "execution_count": 27,
   "metadata": {},
   "outputs": [
    {
     "name": "stdout",
     "output_type": "stream",
     "text": [
      "\tSadia Jafar\n",
      "\n",
      "use of lstrip:\n",
      "Sadia Jafar\n",
      "\n",
      "use of rstip:\n",
      "\tSadia Jafar\n",
      "use of strip:\n",
      "Sadia Jafar\n"
     ]
    }
   ],
   "source": [
    "#2.7 Stripping Names:\n",
    "name = \"\\tSadia Jafar\\n\"\n",
    "print(name)\n",
    "print(\"use of lstrip:\")\n",
    "print(name.lstrip())\n",
    "print(\"use of rstip:\")\n",
    "print(name.rstrip())\n",
    "print(\"use of strip:\")\n",
    "print(name.strip())"
   ]
  },
  {
   "cell_type": "code",
   "execution_count": 28,
   "metadata": {},
   "outputs": [
    {
     "name": "stdout",
     "output_type": "stream",
     "text": [
      "8\n",
      "8\n",
      "8\n",
      "8.0\n"
     ]
    }
   ],
   "source": [
    "#2.8 Number Eight:\n",
    "print(3+5)\n",
    "print(12-4)\n",
    "print(4*2)\n",
    "print(16/2)"
   ]
  },
  {
   "cell_type": "code",
   "execution_count": 37,
   "metadata": {},
   "outputs": [
    {
     "name": "stdout",
     "output_type": "stream",
     "text": [
      "9 is my favorite number.\n"
     ]
    }
   ],
   "source": [
    "#2.9 Favourite Number:\n",
    "num = 9\n",
    "msg = \" is my favorite number.\"\n",
    "print(str(num) + msg)"
   ]
  },
  {
   "cell_type": "code",
   "execution_count": 40,
   "metadata": {},
   "outputs": [
    {
     "name": "stdout",
     "output_type": "stream",
     "text": [
      "8\n",
      "8\n",
      "8\n",
      "8.0\n",
      "My favorite number is 9\n"
     ]
    }
   ],
   "source": [
    "# 2.10 Adding Comments:\n",
    "\n",
    "print(3+5)      # addition\n",
    "print(12-4)     # subtraction\n",
    "print(4*2)      # multiplication\n",
    "print(16/2)     # division\n",
    "#Favourite number:\n",
    "num = 9\n",
    "print(\"My favorite number is \" + str(num))\n"
   ]
  },
  {
   "cell_type": "code",
   "execution_count": 41,
   "metadata": {},
   "outputs": [
    {
     "name": "stdout",
     "output_type": "stream",
     "text": [
      "The Zen of Python, by Tim Peters\n",
      "\n",
      "Beautiful is better than ugly.\n",
      "Explicit is better than implicit.\n",
      "Simple is better than complex.\n",
      "Complex is better than complicated.\n",
      "Flat is better than nested.\n",
      "Sparse is better than dense.\n",
      "Readability counts.\n",
      "Special cases aren't special enough to break the rules.\n",
      "Although practicality beats purity.\n",
      "Errors should never pass silently.\n",
      "Unless explicitly silenced.\n",
      "In the face of ambiguity, refuse the temptation to guess.\n",
      "There should be one-- and preferably only one --obvious way to do it.\n",
      "Although that way may not be obvious at first unless you're Dutch.\n",
      "Now is better than never.\n",
      "Although never is often better than *right* now.\n",
      "If the implementation is hard to explain, it's a bad idea.\n",
      "If the implementation is easy to explain, it may be a good idea.\n",
      "Namespaces are one honking great idea -- let's do more of those!\n"
     ]
    }
   ],
   "source": [
    "# 2-11 Zen of Python:\n",
    "\n",
    "import this"
   ]
  }
 ],
 "metadata": {
  "interpreter": {
   "hash": "65ea54c170e3a9982d7db2d42da73f78c9d0ca568b8b7dc4612ee4ac3dd1e630"
  },
  "kernelspec": {
   "display_name": "Python 3.9.7 ('base')",
   "language": "python",
   "name": "python3"
  },
  "language_info": {
   "codemirror_mode": {
    "name": "ipython",
    "version": 3
   },
   "file_extension": ".py",
   "mimetype": "text/x-python",
   "name": "python",
   "nbconvert_exporter": "python",
   "pygments_lexer": "ipython3",
   "version": "3.9.7"
  },
  "orig_nbformat": 4
 },
 "nbformat": 4,
 "nbformat_minor": 2
}
