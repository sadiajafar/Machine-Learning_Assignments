{
 "cells": [
  {
   "cell_type": "code",
   "execution_count": 1,
   "metadata": {},
   "outputs": [
    {
     "name": "stdout",
     "output_type": "stream",
     "text": [
      "chicken tikka\n",
      "Chicken Tikka is my favourite one.\n",
      "crown crust\n",
      "Crown Crust is my favourite one.\n",
      "fajita\n",
      "Fajita is my favourite one.\n",
      "Crown Crust is my favourite pizza.\n",
      "It's so delicious.\n",
      "I really love pizza.\n"
     ]
    }
   ],
   "source": [
    "#4.1 Pizzas:\n",
    "favourite_pizza=['chicken tikka', 'crown crust', 'fajita']\n",
    "for pizza in favourite_pizza:\n",
    "    print(pizza)\n",
    "    print(pizza.title()+\" is my favourite one.\")\n",
    "print(favourite_pizza[1].title()+ \" is my favourite pizza.\\nIt's so delicious.\\nI really love pizza.\")"
   ]
  },
  {
   "cell_type": "code",
   "execution_count": 2,
   "metadata": {},
   "outputs": [
    {
     "name": "stdout",
     "output_type": "stream",
     "text": [
      "[1, 8, 27, 64, 125, 216, 343, 512, 729, 1000]\n"
     ]
    }
   ],
   "source": [
    "#4.9 Cube Comprehension:\n",
    "cube=[value**3 for value in range(1,11)]\n",
    "print(cube)"
   ]
  }
 ],
 "metadata": {
  "interpreter": {
   "hash": "65ea54c170e3a9982d7db2d42da73f78c9d0ca568b8b7dc4612ee4ac3dd1e630"
  },
  "kernelspec": {
   "display_name": "Python 3.9.7 ('base')",
   "language": "python",
   "name": "python3"
  },
  "language_info": {
   "codemirror_mode": {
    "name": "ipython",
    "version": 3
   },
   "file_extension": ".py",
   "mimetype": "text/x-python",
   "name": "python",
   "nbconvert_exporter": "python",
   "pygments_lexer": "ipython3",
   "version": "3.9.7"
  },
  "orig_nbformat": 4
 },
 "nbformat": 4,
 "nbformat_minor": 2
}
