{
 "cells": [
  {
   "cell_type": "code",
   "execution_count": 1,
   "metadata": {},
   "outputs": [
    {
     "name": "stdout",
     "output_type": "stream",
     "text": [
      "Azka\n",
      "Seemal\n",
      "Aiman\n"
     ]
    }
   ],
   "source": [
    "# 3.1. Names: Store the names of a few of your friends in a list called names. Print each person’s name by accessing each element in the list, one at a time.\n",
    "names=['azka', 'seemal', 'aiman']\n",
    "print(names[0].title())\n",
    "print(names[1].title())\n",
    "print(names[2].title())"
   ]
  },
  {
   "cell_type": "code",
   "execution_count": 5,
   "metadata": {},
   "outputs": [
    {
     "name": "stdout",
     "output_type": "stream",
     "text": [
      "Azka hi how are you?\n",
      "Seemal hi how are you?\n",
      "Aiman hi how are you?\n"
     ]
    }
   ],
   "source": [
    "# 3.2. Greetings: Start with the list you used in Exercise 3.1 ,but instead of just \n",
    "#printing each person’s name, print a message to them. The text of each message should be the same, but each message should be personalized with the \n",
    "#person’s name.\n",
    "names=['Azka', 'Seemal', 'Aiman']\n",
    "message=\" hi how are you?\"\n",
    "print(names[0]+message)\n",
    "print(names[1]+message)\n",
    "print(names[2]+message)"
   ]
  },
  {
   "cell_type": "code",
   "execution_count": 6,
   "metadata": {},
   "outputs": [
    {
     "name": "stdout",
     "output_type": "stream",
     "text": [
      "i like GLI\n",
      "My favourite car is Mercedes\n",
      "i also like BMW\n"
     ]
    }
   ],
   "source": [
    "# 3.3. Your Own List: Think of your favorite mode of transportation, such as a motorcycle or a car, and make a list that stores several examples. Use your list \n",
    "#to print a series of statements about these items, such as “I would like to own a Honda motorcycle.”\n",
    "cars=['BMW', 'Mercedes', 'GLI']\n",
    "print(\"i like \" +cars[2])\n",
    "print(\"My favourite car is \" +cars[1])\n",
    "print(\"i also like \" +cars[0])"
   ]
  },
  {
   "cell_type": "code",
   "execution_count": 7,
   "metadata": {},
   "outputs": [
    {
     "name": "stdout",
     "output_type": "stream",
     "text": [
      "Hey Taiba would you like to join me on dinner?\n",
      "Hey Iqra would you like to join me on dinner?\n",
      "Hey Abiha would you like to join me on dinner?\n"
     ]
    }
   ],
   "source": [
    "# 3.4. Guest List: If you could invite anyone, living or deceased, to dinner, who would you invite? Make a list that includes at least three people you’d like to \n",
    "#invite to dinner. Then use your list to print a message to each person, inviting them to dinner.\n",
    "persons=['Taiba', 'Iqra', 'Abiha']\n",
    "print(\"Hey \"+persons[0]+\" would you like to join me on dinner?\")\n",
    "print(\"Hey \"+persons[1]+\" would you like to join me on dinner?\")\n",
    "print(\"Hey \"+persons[2]+\" would you like to join me on dinner?\")"
   ]
  },
  {
   "cell_type": "code",
   "execution_count": 17,
   "metadata": {},
   "outputs": [
    {
     "name": "stdout",
     "output_type": "stream",
     "text": [
      "Hey Taiba would you like to join me on dinner?\n",
      "Hey Iqra would you like to join me on dinner?\n",
      "Hey Abiha would you like to join me on dinner?\n",
      "Taiba i am really upset that you can't join me on dinner.\n",
      "Hi Taiba would you like to join me on dinner?\n",
      "Hi Iqra would you like to join me on dinner?\n",
      "Hi Abiha would you like to join me on dinner?\n"
     ]
    }
   ],
   "source": [
    "# 3.5. Changing Guest List: \n",
    "persons=['Taiba', 'Iqra', 'Abiha']\n",
    "print(\"Hey \"+persons[0]+\" would you like to join me on dinner?\")\n",
    "print(\"Hey \"+persons[1]+\" would you like to join me on dinner?\")\n",
    "print(\"Hey \"+persons[2]+\" would you like to join me on dinner?\")\n",
    "print(persons[0]+\" i am really upset that you can't join me on dinner.\")\n",
    "persons.insert(0,'Azka')\n",
    "del persons[0]\n",
    "print(\"Hi \"+persons[0]+\" would you like to join me on dinner?\")\n",
    "print(\"Hi \"+persons[1]+\" would you like to join me on dinner?\")\n",
    "print(\"Hi \"+persons[2]+\" would you like to join me on dinner?\")"
   ]
  },
  {
   "cell_type": "code",
   "execution_count": 19,
   "metadata": {},
   "outputs": [
    {
     "name": "stdout",
     "output_type": "stream",
     "text": [
      "Hey Taiba would you like to join me on dinner?\n",
      "Hey Iqra would you like to join me on dinner?\n",
      "Hey Abiha would you like to join me on dinner?\n",
      "Taiba i am really upset that you can't join me on dinner.\n",
      "Hi Taiba would you like to join me on dinner?\n",
      "Hi Iqra would you like to join me on dinner?\n",
      "Hi Abiha would you like to join me on dinner?\n",
      "\n",
      "I want to invite more guests to join me on dinner.\n",
      "Hi Taiba would you like to join me on dinner?\n",
      "Hi Iqra would you like to join me on dinner?\n",
      "Hi Abiha would you like to join me on dinner?\n",
      "Hi Seemal would you like to join me on dinner?\n",
      "Hi Ayesha would you like to join me on dinner?\n",
      "Hi Malaika would you like to join me on dinner?\n"
     ]
    }
   ],
   "source": [
    "# 3.6. More Guests: \n",
    "persons=['Taiba', 'Iqra', 'Abiha']\n",
    "print(\"Hey \"+persons[0]+\" would you like to join me on dinner?\")\n",
    "print(\"Hey \"+persons[1]+\" would you like to join me on dinner?\")\n",
    "print(\"Hey \"+persons[2]+\" would you like to join me on dinner?\")\n",
    "print(persons[0]+\" i am really upset that you can't join me on dinner.\")\n",
    "persons.insert(0,'Azka')\n",
    "del persons[0]\n",
    "print(\"Hi \"+persons[0]+\" would you like to join me on dinner?\")\n",
    "print(\"Hi \"+persons[1]+\" would you like to join me on dinner?\")\n",
    "print(\"Hi \"+persons[2]+\" would you like to join me on dinner?\\n\")\n",
    "print(\"I want to invite more guests to join me on dinner.\")\n",
    "persons.insert(3,'Seemal')\n",
    "persons.insert(4,'Ayesha')\n",
    "persons.append('Malaika')\n",
    "print(\"Hi \"+persons[0]+\" would you like to join me on dinner?\")\n",
    "print(\"Hi \"+persons[1]+\" would you like to join me on dinner?\")\n",
    "print(\"Hi \"+persons[2]+\" would you like to join me on dinner?\")\n",
    "print(\"Hi \"+persons[3]+\" would you like to join me on dinner?\")\n",
    "print(\"Hi \"+persons[4]+\" would you like to join me on dinner?\")\n",
    "print(\"Hi \"+persons[5]+\" would you like to join me on dinner?\")"
   ]
  },
  {
   "cell_type": "code",
   "execution_count": 41,
   "metadata": {},
   "outputs": [
    {
     "name": "stdout",
     "output_type": "stream",
     "text": [
      "Hey Taiba would you like to join me on dinner?\n",
      "Hey Iqra would you like to join me on dinner?\n",
      "Hey Abiha would you like to join me on dinner?\n",
      "Taiba i am really upset that you can't join me on dinner\n",
      "Hi Azka would you like to join me on dinner?\n",
      "Hi Iqra would you like to join me on dinner?\n",
      "Hi Abiha would you like to join me on dinner?\n",
      "\n",
      "I want to invite more guests to join us on dinner.\n",
      "Hi Azka would you like to join me on dinner?\n",
      "Hi Iqra would you like to join me on dinner?\n",
      "Hi Abiha would you like to join me on dinner?\n",
      "Hi Seemal would you like to join me on dinner?\n",
      "Hi Ayesha would you like to join me on dinner?\n",
      "Hi Malaika would you like to join me on dinner?\n",
      "\n",
      "Oh i really feel sorry to inform you that i can invite only two people on dinner.\n",
      "Malaika i feel sorry to tell you that i can't invite you.\n",
      "Ayesha i feel sorry to tell you that i can't invite you.\n",
      "Seemal i feel sorry to tell you that i can't invite you\n",
      "Abiha i feel sorry to tell you that i can't invite you\n",
      "Hi Azka and Iqra both of you are invited on dinner!\n",
      "['Azka', 'Iqra']\n"
     ]
    }
   ],
   "source": [
    "#3-7. Shrinking Guest List:\n",
    "persons=['Taiba', 'Iqra', 'Abiha']\n",
    "print(\"Hey \"+persons[0]+\" would you like to join me on dinner?\")\n",
    "print(\"Hey \"+persons[1]+\" would you like to join me on dinner?\")\n",
    "print(\"Hey \"+persons[2]+\" would you like to join me on dinner?\")\n",
    "print(persons[0]+\" i am really upset that you can't join me on dinner\")\n",
    "del persons[0]\n",
    "persons.insert(0,'Azka')\n",
    "print(\"Hi \"+persons[0]+\" would you like to join me on dinner?\")\n",
    "print(\"Hi \"+persons[1]+\" would you like to join me on dinner?\")\n",
    "print(\"Hi \"+persons[2]+\" would you like to join me on dinner?\\n\")\n",
    "print(\"I want to invite more guests to join us on dinner.\")\n",
    "persons.insert(3,'Seemal')\n",
    "persons.insert(4,'Ayesha')\n",
    "persons.append('Malaika')\n",
    "print(\"Hi \"+persons[0]+\" would you like to join me on dinner?\")\n",
    "print(\"Hi \"+persons[1]+\" would you like to join me on dinner?\")\n",
    "print(\"Hi \"+persons[2]+\" would you like to join me on dinner?\")\n",
    "print(\"Hi \"+persons[3]+\" would you like to join me on dinner?\")\n",
    "print(\"Hi \"+persons[4]+\" would you like to join me on dinner?\")\n",
    "print(\"Hi \"+persons[5]+\" would you like to join me on dinner?\\n\")\n",
    "print(\"Oh i really feel sorry to inform you that i can invite only two people on dinner.\")\n",
    "p1=persons.pop()\n",
    "print(p1+\" i feel sorry to tell you that i can't invite you.\")\n",
    "p1=persons.pop()\n",
    "print(p1+\" i feel sorry to tell you that i can't invite you.\")\n",
    "p1=persons.pop()\n",
    "print(p1+\" i feel sorry to tell you that i can't invite you\")\n",
    "p1=persons.pop()\n",
    "print(p1+\" i feel sorry to tell you that i can't invite you\")\n",
    "print(\"Hi \" +persons[0]+\" and \"+persons[1]+\" both of you are invited on dinner!\")\n",
    "print(persons)"
   ]
  },
  {
   "cell_type": "code",
   "execution_count": 24,
   "metadata": {},
   "outputs": [
    {
     "name": "stdout",
     "output_type": "stream",
     "text": [
      "['Saudi Arabia', 'Turkey', 'Kashmir', 'Austrailia', 'America']\n",
      "['America', 'Austrailia', 'Kashmir', 'Saudi Arabia', 'Turkey']\n",
      "['Saudi Arabia', 'Turkey', 'Kashmir', 'Austrailia', 'America']\n",
      "['Turkey', 'Saudi Arabia', 'Kashmir', 'Austrailia', 'America']\n",
      "['America', 'Austrailia', 'Kashmir', 'Saudi Arabia', 'Turkey']\n",
      "['America', 'Austrailia', 'Kashmir', 'Saudi Arabia', 'Turkey']\n",
      "['Turkey', 'Saudi Arabia', 'Kashmir', 'Austrailia', 'America']\n"
     ]
    }
   ],
   "source": [
    "# 3.8. Seeing the World: \n",
    "locations=['Saudi Arabia', 'Turkey', 'Kashmir', 'Austrailia', 'America']\n",
    "print(locations)\n",
    "print(sorted(locations))\n",
    "print(locations)\n",
    "locations.sort(reverse=True)\n",
    "print(locations)\n",
    "locations.sort(reverse=False)\n",
    "print(locations)\n",
    "locations.sort()\n",
    "print(locations)\n",
    "locations.sort(reverse=True)\n",
    "print(locations)"
   ]
  },
  {
   "cell_type": "code",
   "execution_count": 25,
   "metadata": {},
   "outputs": [
    {
     "name": "stdout",
     "output_type": "stream",
     "text": [
      "2\n"
     ]
    }
   ],
   "source": [
    "#3-9. Dinner Guests: length\n",
    "persons=['Azka', 'Iqra']\n",
    "print(len(persons))\n"
   ]
  },
  {
   "cell_type": "code",
   "execution_count": 27,
   "metadata": {},
   "outputs": [
    {
     "name": "stdout",
     "output_type": "stream",
     "text": [
      "English\n",
      "['english', 'urdu', 'punjabi', 'spanish', 'German']\n",
      "['english', 'urdu', 'French', 'punjabi', 'spanish', 'German']\n",
      "German\n",
      "punjabi\n",
      "['english', 'urdu', 'French', 'spanish']\n",
      "['english', 'French', 'spanish']\n",
      "['French', 'english', 'spanish']\n",
      "['spanish', 'english', 'French']\n",
      "['French', 'english', 'spanish']\n",
      "['spanish', 'english', 'French']\n",
      "['French', 'english', 'spanish']\n",
      "3\n"
     ]
    }
   ],
   "source": [
    "# 3.10. Every Function:\n",
    "languages=['english', 'urdu', 'punjabi', \"spanish\"]\n",
    "#using case method:\n",
    "print(languages[0].title())\n",
    "#Appending Elements in a List:\n",
    "languages.append('German')\n",
    "print(languages)\n",
    "#Inserting Elements into a List:\n",
    "languages.insert(2,'French')\n",
    "print(languages)\n",
    "#Removing an Item Using pop() Method:\n",
    "popped_language=languages.pop()\n",
    "print(popped_language)\n",
    "#Popping Items from any Position:\n",
    "popped_language=languages.pop(3)\n",
    "print(popped_language)\n",
    "print(languages)\n",
    "#Removing an Item by Value:\n",
    "languages.remove('urdu')\n",
    "print(languages)\n",
    "#Permanent sorting:\n",
    "languages.sort()\n",
    "print(languages)\n",
    "#Reverse Alphabetical Order:\n",
    "languages.sort(reverse=True)\n",
    "print(languages)\n",
    "#Temporary Sorting:\n",
    "print(sorted(languages))\n",
    "print(languages)\n",
    "#Reverse Order:\n",
    "languages.reverse()\n",
    "print(languages)\n",
    "#Finding the Length of a List:\n",
    "print(len(languages))"
   ]
  },
  {
   "cell_type": "code",
   "execution_count": 29,
   "metadata": {},
   "outputs": [
    {
     "name": "stdout",
     "output_type": "stream",
     "text": [
      "Aiman\n"
     ]
    },
    {
     "ename": "IndexError",
     "evalue": "list index out of range",
     "output_type": "error",
     "traceback": [
      "\u001b[1;31m---------------------------------------------------------------------------\u001b[0m",
      "\u001b[1;31mIndexError\u001b[0m                                Traceback (most recent call last)",
      "\u001b[1;32m~\\AppData\\Local\\Temp/ipykernel_11120/2884608790.py\u001b[0m in \u001b[0;36m<module>\u001b[1;34m\u001b[0m\n\u001b[0;32m      2\u001b[0m \u001b[0mnames\u001b[0m\u001b[1;33m=\u001b[0m\u001b[1;33m[\u001b[0m\u001b[1;34m'azka'\u001b[0m\u001b[1;33m,\u001b[0m \u001b[1;34m'seemal'\u001b[0m\u001b[1;33m,\u001b[0m \u001b[1;34m'aiman'\u001b[0m\u001b[1;33m]\u001b[0m\u001b[1;33m\u001b[0m\u001b[1;33m\u001b[0m\u001b[0m\n\u001b[0;32m      3\u001b[0m \u001b[0mprint\u001b[0m\u001b[1;33m(\u001b[0m\u001b[0mnames\u001b[0m\u001b[1;33m[\u001b[0m\u001b[1;36m2\u001b[0m\u001b[1;33m]\u001b[0m\u001b[1;33m.\u001b[0m\u001b[0mtitle\u001b[0m\u001b[1;33m(\u001b[0m\u001b[1;33m)\u001b[0m\u001b[1;33m)\u001b[0m\u001b[1;33m\u001b[0m\u001b[1;33m\u001b[0m\u001b[0m\n\u001b[1;32m----> 4\u001b[1;33m \u001b[0mprint\u001b[0m\u001b[1;33m(\u001b[0m\u001b[0mnames\u001b[0m\u001b[1;33m[\u001b[0m\u001b[1;36m3\u001b[0m\u001b[1;33m]\u001b[0m\u001b[1;33m.\u001b[0m\u001b[0mtitle\u001b[0m\u001b[1;33m(\u001b[0m\u001b[1;33m)\u001b[0m\u001b[1;33m)\u001b[0m     \u001b[1;31m#Index error occurs\u001b[0m\u001b[1;33m\u001b[0m\u001b[1;33m\u001b[0m\u001b[0m\n\u001b[0m\u001b[0;32m      5\u001b[0m \u001b[1;31m#Error fixed:\u001b[0m\u001b[1;33m\u001b[0m\u001b[1;33m\u001b[0m\u001b[0m\n\u001b[0;32m      6\u001b[0m \u001b[0mprint\u001b[0m\u001b[1;33m(\u001b[0m\u001b[0mnames\u001b[0m\u001b[1;33m[\u001b[0m\u001b[1;36m2\u001b[0m\u001b[1;33m]\u001b[0m\u001b[1;33m.\u001b[0m\u001b[0mtitle\u001b[0m\u001b[1;33m(\u001b[0m\u001b[1;33m)\u001b[0m\u001b[1;33m)\u001b[0m\u001b[1;33m\u001b[0m\u001b[1;33m\u001b[0m\u001b[0m\n",
      "\u001b[1;31mIndexError\u001b[0m: list index out of range"
     ]
    }
   ],
   "source": [
    "#3-11. Intentional Error: If you haven’t received an index error in one of your programs yet, try to make one happen. Change an index in one of your programs to produce an index error. Make sure youcorrect the error before closing the program.\n",
    "names=['azka', 'seemal', 'aiman']\n",
    "print(names[2].title())\n",
    "print(names[3].title())     #Index error occurs\n",
    "#Error fixed:\n",
    "print(names[2].title())"
   ]
  }
 ],
 "metadata": {
  "interpreter": {
   "hash": "65ea54c170e3a9982d7db2d42da73f78c9d0ca568b8b7dc4612ee4ac3dd1e630"
  },
  "kernelspec": {
   "display_name": "Python 3.9.7 ('base')",
   "language": "python",
   "name": "python3"
  },
  "language_info": {
   "codemirror_mode": {
    "name": "ipython",
    "version": 3
   },
   "file_extension": ".py",
   "mimetype": "text/x-python",
   "name": "python",
   "nbconvert_exporter": "python",
   "pygments_lexer": "ipython3",
   "version": "3.9.7"
  },
  "orig_nbformat": 4
 },
 "nbformat": 4,
 "nbformat_minor": 2
}
